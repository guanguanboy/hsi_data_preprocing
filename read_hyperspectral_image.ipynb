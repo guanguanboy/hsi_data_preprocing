{
 "cells": [
  {
   "cell_type": "code",
   "execution_count": 1,
   "metadata": {},
   "outputs": [
    {
     "ename": "FileNotFoundError",
     "evalue": "Unable to locate file \"2021-01-08_13-21-14_123_orange2.hdr\". If the file exists, use its full path or place its directory in the SPECTRAL_DATA environment variable.",
     "output_type": "error",
     "traceback": [
      "\u001b[1;31m---------------------------------------------------------------------------\u001b[0m",
      "\u001b[1;31mFileNotFoundError\u001b[0m                         Traceback (most recent call last)",
      "\u001b[1;32m<ipython-input-1-9e9be728c797>\u001b[0m in \u001b[0;36m<module>\u001b[1;34m\u001b[0m\n\u001b[0;32m      6\u001b[0m \u001b[1;32mfrom\u001b[0m \u001b[0mPIL\u001b[0m \u001b[1;32mimport\u001b[0m \u001b[0mImage\u001b[0m\u001b[1;33m\u001b[0m\u001b[1;33m\u001b[0m\u001b[0m\n\u001b[0;32m      7\u001b[0m \u001b[1;33m\u001b[0m\u001b[0m\n\u001b[1;32m----> 8\u001b[1;33m \u001b[0mimg\u001b[0m \u001b[1;33m=\u001b[0m \u001b[0menvi\u001b[0m\u001b[1;33m.\u001b[0m\u001b[0mopen\u001b[0m\u001b[1;33m(\u001b[0m\u001b[1;34m'2021-01-08_13-21-14_123_orange2.hdr'\u001b[0m\u001b[1;33m)\u001b[0m\u001b[1;33m\u001b[0m\u001b[1;33m\u001b[0m\u001b[0m\n\u001b[0m\u001b[0;32m      9\u001b[0m \u001b[0mprint\u001b[0m\u001b[1;33m(\u001b[0m\u001b[0mimg\u001b[0m\u001b[1;33m)\u001b[0m\u001b[1;33m\u001b[0m\u001b[1;33m\u001b[0m\u001b[0m\n\u001b[0;32m     10\u001b[0m \u001b[1;33m\u001b[0m\u001b[0m\n",
      "\u001b[1;32mD:\\ProgramData\\Anaconda3\\lib\\site-packages\\spectral\\io\\envi.py\u001b[0m in \u001b[0;36mopen\u001b[1;34m(file, image)\u001b[0m\n\u001b[0;32m    287\u001b[0m     '''\n\u001b[0;32m    288\u001b[0m \u001b[1;33m\u001b[0m\u001b[0m\n\u001b[1;32m--> 289\u001b[1;33m     \u001b[0mheader_path\u001b[0m \u001b[1;33m=\u001b[0m \u001b[0mfind_file_path\u001b[0m\u001b[1;33m(\u001b[0m\u001b[0mfile\u001b[0m\u001b[1;33m)\u001b[0m\u001b[1;33m\u001b[0m\u001b[1;33m\u001b[0m\u001b[0m\n\u001b[0m\u001b[0;32m    290\u001b[0m     \u001b[0mh\u001b[0m \u001b[1;33m=\u001b[0m \u001b[0mread_envi_header\u001b[0m\u001b[1;33m(\u001b[0m\u001b[0mheader_path\u001b[0m\u001b[1;33m)\u001b[0m\u001b[1;33m\u001b[0m\u001b[1;33m\u001b[0m\u001b[0m\n\u001b[0;32m    291\u001b[0m     \u001b[0mcheck_compatibility\u001b[0m\u001b[1;33m(\u001b[0m\u001b[0mh\u001b[0m\u001b[1;33m)\u001b[0m\u001b[1;33m\u001b[0m\u001b[1;33m\u001b[0m\u001b[0m\n",
      "\u001b[1;32mD:\\ProgramData\\Anaconda3\\lib\\site-packages\\spectral\\io\\spyfile.py\u001b[0m in \u001b[0;36mfind_file_path\u001b[1;34m(filename)\u001b[0m\n\u001b[0;32m    118\u001b[0m           \u001b[1;34m'use its full path or place its directory in the '\u001b[0m\u001b[0;31m \u001b[0m\u001b[0;31m\\\u001b[0m\u001b[1;33m\u001b[0m\u001b[1;33m\u001b[0m\u001b[0m\n\u001b[0;32m    119\u001b[0m           \u001b[1;34m'SPECTRAL_DATA environment variable.'\u001b[0m  \u001b[1;33m%\u001b[0m \u001b[0mfilename\u001b[0m\u001b[1;33m\u001b[0m\u001b[1;33m\u001b[0m\u001b[0m\n\u001b[1;32m--> 120\u001b[1;33m         \u001b[1;32mraise\u001b[0m \u001b[0mFileNotFoundError\u001b[0m\u001b[1;33m(\u001b[0m\u001b[0mmsg\u001b[0m\u001b[1;33m)\u001b[0m\u001b[1;33m\u001b[0m\u001b[1;33m\u001b[0m\u001b[0m\n\u001b[0m\u001b[0;32m    121\u001b[0m     \u001b[1;32mreturn\u001b[0m \u001b[0mpathname\u001b[0m\u001b[1;33m\u001b[0m\u001b[1;33m\u001b[0m\u001b[0m\n\u001b[0;32m    122\u001b[0m \u001b[1;33m\u001b[0m\u001b[0m\n",
      "\u001b[1;31mFileNotFoundError\u001b[0m: Unable to locate file \"2021-01-08_13-21-14_123_orange2.hdr\". If the file exists, use its full path or place its directory in the SPECTRAL_DATA environment variable."
     ]
    }
   ],
   "source": [
    "import spectral.io.envi as envi\n",
    "import matplotlib.pyplot as plt\n",
    "from spectral import *\n",
    "import numpy as np\n",
    "import scipy.io\n",
    "from PIL import Image\n",
    "\n",
    "img = envi.open('2021-01-08_13-21-14_123_orange2.hdr')\n",
    "print(img)\n",
    "\n",
    "print(img.shape)\n",
    "print(type(img))\n",
    "array = img.load()\n",
    "print(type(array))\n",
    "print('array.shape', array.shape)\n",
    "\n",
    "#scipy.io.savemat('lowlight.mat', {'lowlight':array})\n",
    "#print(img[:,:,])\n",
    "bands = [i for i in range(img.shape[2])]\n",
    "print('band num=',len(bands))\n",
    "gt0 = img.read_band(bands)\n",
    "\n",
    "\n",
    "print('gt0 type:', type(gt0))\n",
    "print('gt0.shape',gt0.shape)\n",
    "gt = img.read_band(121)\n",
    "print('gt type:', type(gt))\n",
    "print(gt.shape)\n",
    "print(gt.dtype)\n",
    "plt.imshow(gt)\n",
    "plt.show()\n",
    "print(\"gt max = \", gt.max())\n",
    "print('gt min =', gt.min())\n",
    "gt8bit = gt.astype(np.float)\n",
    "print(gt8bit.dtype)\n",
    "gt8bit = (gt8bit / 2047)*255 #归一化，因为相机内部是11bit的，所以可是使用除以2047来归一化数据\n",
    "\n",
    "gt8bit = gt8bit.astype(np.uint8)\n",
    "\n",
    "print(gt8bit.max(), gt8bit.min())\n",
    "print(gt8bit.dtype)\n",
    "plt.imshow(gt8bit)\n",
    "plt.show()\n",
    "\n",
    "\"\"\"\n",
    "plt.imshow(gt)\n",
    "plt.show()\n",
    "save_rgb('rgb.jpg', img, [29, 19, 9])\n",
    "view = imshow(img, [29, 19, 9])\n",
    "print(view)\n",
    "\"\"\""
   ]
  }
 ],
 "metadata": {
  "kernelspec": {
   "display_name": "Python 3",
   "language": "python",
   "name": "python3"
  },
  "language_info": {
   "codemirror_mode": {
    "name": "ipython",
    "version": 3
   },
   "file_extension": ".py",
   "mimetype": "text/x-python",
   "name": "python",
   "nbconvert_exporter": "python",
   "pygments_lexer": "ipython3",
   "version": "3.8.3"
  }
 },
 "nbformat": 4,
 "nbformat_minor": 4
}
